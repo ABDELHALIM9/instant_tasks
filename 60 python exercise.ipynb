{
 "cells": [
  {
   "cell_type": "markdown",
   "id": "759d04ba",
   "metadata": {},
   "source": [
    "**1-Write a Python program to calculate the length of a string using 2 ways"
   ]
  },
  {
   "cell_type": "code",
   "execution_count": 1,
   "id": "e434c950",
   "metadata": {},
   "outputs": [
    {
     "name": "stdout",
     "output_type": "stream",
     "text": [
      "4\n"
     ]
    }
   ],
   "source": [
    "string =\"abdo\"\n",
    "print (len(string))"
   ]
  },
  {
   "cell_type": "code",
   "execution_count": 3,
   "id": "7a2dfa32",
   "metadata": {},
   "outputs": [
    {
     "name": "stdout",
     "output_type": "stream",
     "text": [
      "10\n"
     ]
    }
   ],
   "source": [
    "string =\"abdelhalim\"\n",
    "count=0\n",
    "for i in string:\n",
    "    count+=1\n",
    "print(count)    "
   ]
  },
  {
   "cell_type": "markdown",
   "id": "d7cc9da7",
   "metadata": {},
   "source": [
    "**2-Write a Python program to get a string made of the first 2 and last 2 characters of a given string. If the string length is less than 2, return the empty string instead (\"##Sample String : 'w3resource'\n",
    "Expected Result : 'w3ce'\n",
    "##Sample String : 'w3'\n",
    "Expected Result : 'w3w3'\n",
    "##Sample String : ' w'\n",
    "Expected Result : Empty String)"
   ]
  },
  {
   "cell_type": "code",
   "execution_count": 7,
   "id": "dafa9dd8",
   "metadata": {},
   "outputs": [
    {
     "name": "stdout",
     "output_type": "stream",
     "text": [
      "asop\n"
     ]
    }
   ],
   "source": [
    "string =input(\"enter string \")\n",
    "if len(string)<=2:\n",
    "    print(\" \")\n",
    "else:\n",
    "    print(string[:2]+string[-2:])\n",
    "\n",
    "        "
   ]
  },
  {
   "cell_type": "markdown",
   "id": "1534f956",
   "metadata": {},
   "source": [
    "**3-Write a Python program to add 'ing' at the end of a given string (length should be at least 3). If the given string already ends with 'ing', add 'ly' instead. If the string length of the given string is less than 3, leave it unchanged. (Sample String : 'abc'\n",
    "Expected Result : 'abcing')"
   ]
  },
  {
   "cell_type": "code",
   "execution_count": 10,
   "id": "7ff8cec4",
   "metadata": {},
   "outputs": [
    {
     "name": "stdout",
     "output_type": "stream",
     "text": [
      "poooooooing\n"
     ]
    }
   ],
   "source": [
    "string =input(\"enter string \")\n",
    "if len(string)<=3:\n",
    "    print(\"string length should be mor than 3 \")\n",
    "elif string[-3:]==\"ing\":\n",
    "    print(string[:-3]+'ly')\n",
    "else:\n",
    "    print(string+'ing')\n",
    "\n"
   ]
  },
  {
   "cell_type": "markdown",
   "id": "1c0a6627",
   "metadata": {},
   "source": [
    "**4-Write a Python function that takes a list of words and return the longest word and the length of the longest one\n",
    "(Longest word: Exercises\n",
    "Length of the longest word: 9)"
   ]
  },
  {
   "cell_type": "code",
   "execution_count": 12,
   "id": "397341d9",
   "metadata": {},
   "outputs": [
    {
     "name": "stdout",
     "output_type": "stream",
     "text": [
      "word is abdelhalim and the length is 10\n"
     ]
    }
   ],
   "source": [
    "def long(names):\n",
    "    lword=\"\"\n",
    "    lenword=0\n",
    "    for i in names:\n",
    "        if len(i)>lenword:\n",
    "            lenword=len(i)\n",
    "            lword=i\n",
    "    print (f\"word is {lword} and the length is {lenword}\")\n",
    "\n",
    "\n",
    "l=[\"looop\",\"loop\",\"cop\",\"abdo\",\"abdelhalim\"]\n",
    "long(l)     "
   ]
  },
  {
   "cell_type": "code",
   "execution_count": null,
   "id": "b1e235ad",
   "metadata": {},
   "outputs": [],
   "source": []
  },
  {
   "cell_type": "markdown",
   "id": "53a03a6a",
   "metadata": {},
   "source": [
    "**5-Write a Python program to change a given string to a newly string where the first and last chars have been exchanged using 2 ways (Sample String:abca  Expected Result:ebce)"
   ]
  },
  {
   "cell_type": "code",
   "execution_count": 14,
   "id": "fd327d2a",
   "metadata": {},
   "outputs": [
    {
     "name": "stdout",
     "output_type": "stream",
     "text": [
      "doog\n"
     ]
    }
   ],
   "source": [
    "string =input(\"enter string \")\n",
    "print(string[-1]+string[1:-1]+string[0])"
   ]
  },
  {
   "cell_type": "code",
   "execution_count": 15,
   "id": "285788b4",
   "metadata": {},
   "outputs": [
    {
     "name": "stdout",
     "output_type": "stream",
     "text": [
      "pool\n"
     ]
    }
   ],
   "source": [
    "string =input(\"enter string \")\n",
    "new=string[-1]+string[1:-1]+string[0]\n",
    "print(new)"
   ]
  },
  {
   "cell_type": "markdown",
   "id": "25f89808",
   "metadata": {},
   "source": [
    "**6-Write a Python program to remove characters that have odd index values in a given string (Sample String:abca Expected Result:ac)"
   ]
  },
  {
   "cell_type": "code",
   "execution_count": 17,
   "id": "05959bd7",
   "metadata": {},
   "outputs": [
    {
     "name": "stdout",
     "output_type": "stream",
     "text": [
      "adlai\n"
     ]
    }
   ],
   "source": [
    "string =input(\"enter string \")\n",
    "print(string[:-1:2])"
   ]
  },
  {
   "cell_type": "markdown",
   "id": "eb16e898",
   "metadata": {},
   "source": [
    "**7-Write a Python program to count the occurrences of each word in a given sentence (Sample String:amr and ahmed are frindes but amr is the tallest Expected Result:2)"
   ]
  },
  {
   "cell_type": "code",
   "execution_count": 24,
   "id": "01ce6cf5",
   "metadata": {},
   "outputs": [
    {
     "name": "stdout",
     "output_type": "stream",
     "text": [
      "and 6\n"
     ]
    }
   ],
   "source": [
    "string =\"amr and ahmed and ahmed and ahmed and ahmed and ahmed and \"\n",
    "n=string.split()\n",
    "word=''\n",
    "count=0\n",
    "for i in n:\n",
    "    x=0 \n",
    "    for j in n:\n",
    "        if i ==j :\n",
    "            x+=1\n",
    "    if x>count:\n",
    "        word=i\n",
    "        count=x        \n",
    "print(word , count)"
   ]
  },
  {
   "cell_type": "markdown",
   "id": "4e8125f1",
   "metadata": {},
   "source": [
    "**8-Write a Python script that takes input from the user and displays that input back in upper and lower cases"
   ]
  },
  {
   "cell_type": "code",
   "execution_count": 26,
   "id": "66c8f778",
   "metadata": {},
   "outputs": [
    {
     "name": "stdout",
     "output_type": "stream",
     "text": [
      "GOOD\n",
      "good\n"
     ]
    }
   ],
   "source": [
    "string=input(\"enter string \")\n",
    "print(string.upper())\n",
    "print(string.lower())"
   ]
  },
  {
   "cell_type": "markdown",
   "id": "fcd68aa1",
   "metadata": {},
   "source": [
    "**9-Write a Python function to reverse a string if its length is a multiple of 4"
   ]
  },
  {
   "cell_type": "code",
   "execution_count": 39,
   "id": "0671a931",
   "metadata": {},
   "outputs": [
    {
     "name": "stdout",
     "output_type": "stream",
     "text": [
      "odba\n"
     ]
    }
   ],
   "source": [
    "def rfunction(string):\n",
    "    if len(string)%4==0:\n",
    "        return string[::-1]\n",
    "    else:\n",
    "        return string\n",
    "\n",
    "string=input(\"enter a string \")      \n",
    "n=rfunction(string)\n",
    "print(n)\n",
    "\n"
   ]
  },
  {
   "cell_type": "markdown",
   "id": "b577c68d",
   "metadata": {},
   "source": [
    "**10- Write a Python program to remove a newline in Python"
   ]
  },
  {
   "cell_type": "code",
   "execution_count": 44,
   "id": "e0c6525a",
   "metadata": {},
   "outputs": [
    {
     "name": "stdout",
     "output_type": "stream",
     "text": [
      "ldosdv odospvdv oopdsfvj podsdvj \n"
     ]
    }
   ],
   "source": [
    "string =\"  ldosdv odospvdv oopdsfvj podsdvj \"\n",
    "print(string.lstrip() )"
   ]
  },
  {
   "cell_type": "markdown",
   "id": "80db5ae0",
   "metadata": {},
   "source": [
    "**11-Write a Python program to check whether a string starts with specified characters"
   ]
  },
  {
   "cell_type": "code",
   "execution_count": 47,
   "id": "0cc4e03e",
   "metadata": {},
   "outputs": [
    {
     "name": "stdout",
     "output_type": "stream",
     "text": [
      "False\n"
     ]
    }
   ],
   "source": [
    "string=\"abdo\"\n",
    "print(string.startswith(\"#\"or '$'or '_'or '^'or '&'))"
   ]
  },
  {
   "cell_type": "markdown",
   "id": "593a68db",
   "metadata": {},
   "source": [
    "**12- Write a Python program to add prefix text to all of the lines in a string"
   ]
  },
  {
   "cell_type": "code",
   "execution_count": 49,
   "id": "d2e46ada",
   "metadata": {},
   "outputs": [
    {
     "name": "stdout",
     "output_type": "stream",
     "text": [
      "hi, abdo\n"
     ]
    }
   ],
   "source": [
    "string=\"abdo\"\n",
    "pre=\"hi,\"\n",
    "print(pre,string)"
   ]
  },
  {
   "cell_type": "markdown",
   "id": "86fa1543",
   "metadata": {},
   "source": [
    "**13-Write a Python program to print the following numbers up to 2 decimal places"
   ]
  },
  {
   "cell_type": "code",
   "execution_count": 55,
   "id": "cd4a9d89",
   "metadata": {},
   "outputs": [
    {
     "name": "stdout",
     "output_type": "stream",
     "text": [
      "22.24\n"
     ]
    }
   ],
   "source": [
    "number =float( input(\"enter number \"))\n",
    "num = \"{:.2f}\".format(number)\n",
    "print(num)"
   ]
  },
  {
   "cell_type": "markdown",
   "id": "452c0ab0",
   "metadata": {},
   "source": [
    "**14-Write a Python program to print the following numbers up to 2 decimal places with a sign"
   ]
  },
  {
   "cell_type": "code",
   "execution_count": 58,
   "id": "73e82479",
   "metadata": {},
   "outputs": [
    {
     "name": "stdout",
     "output_type": "stream",
     "text": [
      "-25559.34\n"
     ]
    }
   ],
   "source": [
    "number =float( input(\"enter number \"))\n",
    "num = \"{:+.2f}\".format(number)\n",
    "print(num)"
   ]
  },
  {
   "cell_type": "markdown",
   "id": "32b1811a",
   "metadata": {},
   "source": [
    "**15-Write a Python program to display a number with a comma separator"
   ]
  },
  {
   "cell_type": "code",
   "execution_count": 63,
   "id": "f30fc0b6",
   "metadata": {},
   "outputs": [
    {
     "name": "stdout",
     "output_type": "stream",
     "text": [
      "1,234,567.00\n"
     ]
    }
   ],
   "source": [
    "number = 1234567\n",
    "num = \"{:,.2f}\".format(number)\n",
    "print(num)"
   ]
  },
  {
   "cell_type": "markdown",
   "id": "0477f487",
   "metadata": {},
   "source": [
    "**16-Write a Python program to reverse a string using 2 ways"
   ]
  },
  {
   "cell_type": "code",
   "execution_count": 67,
   "id": "aa8beec8",
   "metadata": {},
   "outputs": [
    {
     "name": "stdout",
     "output_type": "stream",
     "text": [
      "doog\n",
      "--------------------------------------\n",
      "doog\n"
     ]
    }
   ],
   "source": [
    "#frist way\n",
    "string =\"good\"\n",
    "print(string[::-1])\n",
    "print(\"--------------------------------------\")\n",
    "#sconde way\n",
    "lstring=list(string)\n",
    "lstring.reverse()\n",
    "new=\"\".join(lstring)\n",
    "print(new)"
   ]
  },
  {
   "cell_type": "markdown",
   "id": "5afc3166",
   "metadata": {},
   "source": [
    " **17-Write a Python program to count repeated characters in a string (hint:use dictionary)"
   ]
  },
  {
   "cell_type": "code",
   "execution_count": 69,
   "id": "515a469c",
   "metadata": {},
   "outputs": [
    {
     "name": "stdout",
     "output_type": "stream",
     "text": [
      "the number of this char h is 3 \n",
      "the number of this char i is 2 \n",
      "the number of this char   is 2 \n",
      "the number of this char a is 4 \n",
      "the number of this char l is 2 \n"
     ]
    }
   ],
   "source": [
    "string =\"hi abdelhalim ashraf\"\n",
    "d={}\n",
    "for i in string:\n",
    "    if i in d :\n",
    "        d[i]+=1\n",
    "    else:\n",
    "        d[i]=1\n",
    "for i,x in d.items():\n",
    "    if x>1:\n",
    "        print(f\"the number of this char {i} is {x} \")\n"
   ]
  },
  {
   "cell_type": "markdown",
   "id": "ae14e4e5",
   "metadata": {},
   "source": [
    "**18-Write a Python program to find the first non-repeating character in a given string"
   ]
  },
  {
   "cell_type": "code",
   "execution_count": 71,
   "id": "d73778e5",
   "metadata": {},
   "outputs": [
    {
     "name": "stdout",
     "output_type": "stream",
     "text": [
      "the  char is  h  \n",
      "the  char is  e  \n",
      "the  char is  o  \n"
     ]
    }
   ],
   "source": [
    "string =\"hello\"\n",
    "d={}\n",
    "for i in string:\n",
    "    if i in d :\n",
    "        d[i]+=1\n",
    "    else:\n",
    "        d[i]=1\n",
    "for i,x in d.items():\n",
    "    if x==1:\n",
    "        print(f\"the  char is  {i}  \")\n"
   ]
  },
  {
   "cell_type": "markdown",
   "id": "3adf5669",
   "metadata": {},
   "source": [
    "**19-Write a Python program to remove spaces from a given string"
   ]
  },
  {
   "cell_type": "code",
   "execution_count": 74,
   "id": "b4f22602",
   "metadata": {},
   "outputs": [
    {
     "name": "stdout",
     "output_type": "stream",
     "text": [
      "hello\n"
     ]
    }
   ],
   "source": [
    "string =\"h e l l o \"\n",
    "new=[]\n",
    "for i in string:\n",
    "    if i !=\" \" :\n",
    "        new.append(i)\n",
    "n=\"\".join(new)\n",
    "print(n)        \n",
    "\n"
   ]
  },
  {
   "cell_type": "markdown",
   "id": "734de60c",
   "metadata": {},
   "source": [
    "**20-Write a Python program to count the number of non-empty substrings of a given string"
   ]
  },
  {
   "cell_type": "code",
   "execution_count": 8,
   "id": "ef3f2274",
   "metadata": {},
   "outputs": [
    {
     "name": "stdout",
     "output_type": "stream",
     "text": [
      "15\n",
      "15.0\n"
     ]
    }
   ],
   "source": [
    "## need information\n",
    "# 1\n",
    "string =\"hello\"\n",
    "count =0\n",
    "for i in range(len(string)):\n",
    "    for j in range(i+1,len(string)+1):\n",
    "        if string[i:j]:\n",
    "            count+=1\n",
    "print(count)\n",
    "# 2\n",
    "x=0\n",
    "result=(len(string)*(len(string)+1))/2\n",
    "print(result)"
   ]
  },
  {
   "cell_type": "markdown",
   "id": "509998e2",
   "metadata": {},
   "source": [
    "**21-write a Python program to swap first and last element of any list."
   ]
  },
  {
   "cell_type": "code",
   "execution_count": 16,
   "id": "68692d7f",
   "metadata": {},
   "outputs": [
    {
     "name": "stdout",
     "output_type": "stream",
     "text": [
      "before  ['abdo', 'what', 'set', 'while', 'for', 'you', 'po', 'do', 'go', 'if ', 'loop']\n",
      "after ['loop', 'what', 'set', 'while', 'for', 'you', 'po', 'do', 'go', 'if ', 'abdo']\n"
     ]
    }
   ],
   "source": [
    "def swap(li):\n",
    "    temp=li[0]\n",
    "    li[0]=li[-1]\n",
    "    li[-1]=temp\n",
    "li=[\"abdo\",\"what\",\"set\",\"while\",\"for\",\"you\",\"po\",\"do\",\"go\",\"if \",\"loop\"]\n",
    "print(\"before \",li)\n",
    "swap(li)\n",
    "print(\"after\",li)\n"
   ]
  },
  {
   "cell_type": "markdown",
   "id": "959e0837",
   "metadata": {},
   "source": [
    "**22-Given a list in Python and provided the positions of the elements, write a program to swap the two elements in the list. (Input : List = [23, 65, 19, 90], pos1 = 1, pos2 = 3\n",
    "Output : [19, 65, 23, 90])"
   ]
  },
  {
   "cell_type": "code",
   "execution_count": 18,
   "id": "225d8c6d",
   "metadata": {},
   "outputs": [
    {
     "name": "stdout",
     "output_type": "stream",
     "text": [
      "before  [23, 65, 19, 90]\n",
      "after [19, 65, 23, 90]\n"
     ]
    }
   ],
   "source": [
    "def swap(li,p1,p2):\n",
    "    temp=li[p1]\n",
    "    li[p1]=li[p2]\n",
    "    li[p2]=temp\n",
    "li=[23,65,19,90]\n",
    "print(\"before \",li)\n",
    "p1=1\n",
    "p2=3\n",
    "swap(li,p1-1,p2-1)\n",
    "print(\"after\",li)\n"
   ]
  },
  {
   "cell_type": "markdown",
   "id": "66fc6682",
   "metadata": {},
   "source": [
    "**23- search for the all ways to know the length of the list"
   ]
  },
  {
   "cell_type": "code",
   "execution_count": 21,
   "id": "c768fa72",
   "metadata": {},
   "outputs": [
    {
     "name": "stdout",
     "output_type": "stream",
     "text": [
      "9\n",
      "9\n"
     ]
    }
   ],
   "source": [
    "#1\n",
    "string =[\"hello\",1,5,6,8,8,9,8,66]\n",
    "print(len(string))\n",
    "#2\n",
    "string =[\"hello\",1,5,6,8,8,9,8,66]\n",
    "s=string\n",
    "x=0\n",
    "for i in s :\n",
    "    x+=1\n",
    "print (x)    "
   ]
  },
  {
   "cell_type": "code",
   "execution_count": null,
   "id": "63ff8b43",
   "metadata": {},
   "outputs": [],
   "source": [
    "**24-write a Python code to find the Maximum number of list of numbers."
   ]
  },
  {
   "cell_type": "code",
   "execution_count": 27,
   "id": "15f342de",
   "metadata": {},
   "outputs": [
    {
     "name": "stdout",
     "output_type": "stream",
     "text": [
      "9222\n"
     ]
    }
   ],
   "source": [
    "li=[100,88,89,89,999,7,777,8,556,9222,699,32,255,2023,636,2033,1497]\n",
    "max=0\n",
    "for i in li:\n",
    "    if i>max:\n",
    "        max=i\n",
    "print(max)        "
   ]
  },
  {
   "cell_type": "code",
   "execution_count": null,
   "id": "1a89b9d3",
   "metadata": {},
   "outputs": [],
   "source": [
    "**25-write a Python code to find the Minimum number of list of numbers."
   ]
  },
  {
   "cell_type": "code",
   "execution_count": 30,
   "id": "21f8cbd6",
   "metadata": {},
   "outputs": [
    {
     "name": "stdout",
     "output_type": "stream",
     "text": [
      "-300\n"
     ]
    }
   ],
   "source": [
    "li=[100,88,89,89,999,7,777,8,556,9222,699,32,255,2023,636,2033,-300,1497]\n",
    "min=1234567890123456789\n",
    "for i in li:\n",
    "    if i< min:\n",
    "        min=i\n",
    "print(min)        "
   ]
  },
  {
   "cell_type": "markdown",
   "id": "96822d96",
   "metadata": {},
   "source": [
    "**26-search for if an elem is existing in list"
   ]
  },
  {
   "cell_type": "code",
   "execution_count": 36,
   "id": "51ca5c9a",
   "metadata": {},
   "outputs": [
    {
     "name": "stdout",
     "output_type": "stream",
     "text": [
      "False\n"
     ]
    }
   ],
   "source": [
    "def find(li,n):\n",
    "    for i in li:\n",
    "        if i==n:\n",
    "            return True\n",
    "        \n",
    "    return False\n",
    "            \n",
    "\n",
    "li=[1250,558,5,8,6,6,6,3,66,55,558,8,22,58,9,3699,225,8,22]\n",
    "x=find(li,155)        \n",
    "print(x)       "
   ]
  },
  {
   "cell_type": "markdown",
   "id": "d9557da7",
   "metadata": {},
   "source": [
    "**27- clear python list using different ways"
   ]
  },
  {
   "cell_type": "code",
   "execution_count": 55,
   "id": "b69858a3",
   "metadata": {},
   "outputs": [
    {
     "name": "stdout",
     "output_type": "stream",
     "text": [
      "[]\n"
     ]
    }
   ],
   "source": [
    "#1\n",
    "li=[50,58,5,8,6,6,16,3,66,55,55,8,22,58,9,39,2,8,2]\n",
    "li.clear()\n",
    "print(li)\n",
    "#2\n",
    "li=[50,58,5,8,6,6,16,3,66,55,55,8,22,58,9,39,2,8,2]\n",
    "del li\n",
    "#3\n",
    "li=[50,58,5,8,6,6,16,3,66,55,55,8,22,58,9,39,2,8,2]\n",
    "li=[]"
   ]
  },
  {
   "cell_type": "code",
   "execution_count": null,
   "id": "20275f86",
   "metadata": {},
   "outputs": [],
   "source": []
  },
  {
   "cell_type": "markdown",
   "id": "52160e88",
   "metadata": {},
   "source": [
    "**28-remove duplicated elements from a list"
   ]
  },
  {
   "cell_type": "code",
   "execution_count": 43,
   "id": "5e362228",
   "metadata": {},
   "outputs": [
    {
     "name": "stdout",
     "output_type": "stream",
     "text": [
      "[50, 58, 5, 8, 6, 6, 16, 3, 66, 55, 55, 8, 22, 58, 9, 39, 2, 8, 2]\n",
      "----------------------------\n",
      "[50, 58, 5, 8, 6, 16, 3, 66, 55, 22, 9, 39, 2]\n"
     ]
    }
   ],
   "source": [
    "def rduplicated(li):\n",
    "    x=[]\n",
    "    for i in li:\n",
    "       if i not in x:\n",
    "           x.append(i)\n",
    "    return x       \n",
    "\n",
    "\n",
    "li=[50,58,5,8,6,6,16,3,66,55,55,8,22,58,9,39,2,8,2]\n",
    "print(li)\n",
    "new=rduplicated(li)\n",
    "print(\"----------------------------\")\n",
    "print(new)"
   ]
  },
  {
   "cell_type": "markdown",
   "id": "282337f7",
   "metadata": {},
   "source": [
    "**29-Given list values and keys list, convert these values to key value pairs in form of list of dictionaries. (Input : test_list = [“Gfg”, 3, “is”, 8], key_list = [“name”, “id”]\n",
    "Output : [{‘name’: ‘Gfg’, ‘id’: 3}, {‘name’: ‘is’, ‘id’: 8}])"
   ]
  },
  {
   "cell_type": "code",
   "execution_count": 66,
   "id": "4d4e2d28",
   "metadata": {},
   "outputs": [
    {
     "name": "stdout",
     "output_type": "stream",
     "text": [
      "[{'name': 'li', 'id': 18}, {'name': 'li', 'id': 18}, {'name': 'li', 'id': 18}]\n"
     ]
    }
   ],
   "source": [
    "def add(li,key , value):\n",
    "    li[key]=(value)\n",
    "\n",
    "test_list = [\"Gfg\", 3, \"is\", 8,\"li\", 18]\n",
    "key_list = [\"name\", \"id\"]\n",
    "li={}\n",
    "new=[]\n",
    "y=0\n",
    "for  s in range( int(len(test_list)/len(key_list))):\n",
    "    x=0\n",
    "    for i in key_list:\n",
    "        add(li,key_list[x],test_list[y])\n",
    "        x+=1\n",
    "        y+=1\n",
    "    new.append(li)    \n",
    "\n",
    "print(new)    \n"
   ]
  },
  {
   "cell_type": "markdown",
   "id": "c26b6e9f",
   "metadata": {},
   "source": [
    "**30-write a python program to count unique values inside a list using different ways"
   ]
  },
  {
   "cell_type": "code",
   "execution_count": 68,
   "id": "72132667",
   "metadata": {},
   "outputs": [
    {
     "name": "stdout",
     "output_type": "stream",
     "text": [
      "476\n",
      "476\n"
     ]
    }
   ],
   "source": [
    "#1\n",
    "li=[50,58,5,8,6,6,16,3,66,55,55,8,22,58,9,39,2,8,2]\n",
    "c=0\n",
    "for i in li:\n",
    "    c+=i\n",
    "print(c)\n",
    "#2     \n",
    "li=[50,58,5,8,6,6,16,3,66,55,55,8,22,58,9,39,2,8,2]\n",
    "c=0\n",
    "for i in range(len(li)) :\n",
    "    c+=li[i]\n",
    "print(c)\n"
   ]
  },
  {
   "cell_type": "markdown",
   "id": "fed6677c",
   "metadata": {},
   "source": [
    "**31-write a python program Extract all elements with Frequency greater than K (Input : test_list = [4, 6, 4, 3, 3, 4, 3, 4, 3, 8], K = 3 \n",
    "Output : [4, 3] )"
   ]
  },
  {
   "cell_type": "code",
   "execution_count": 71,
   "id": "d81f3f9d",
   "metadata": {},
   "outputs": [
    {
     "name": "stdout",
     "output_type": "stream",
     "text": [
      "[8]\n"
     ]
    }
   ],
   "source": [
    "li=[4, 6, 4, 3, 3, 4, 3, 4, 3, 8, 8, 8, 8, 8, 8, 8, 8, 8, 8, 8, 8, 8, 8, 8, 8, 8, 8, 8, 8, 8, 8, 8, 8, 8]\n",
    "k=int (input(\"enter number \"))\n",
    "add=[]\n",
    "\n",
    "for i in li:\n",
    "    c=0\n",
    "    for j in li:\n",
    "        if i==j:\n",
    "            c+=1\n",
    "    if c>k and i not in add:\n",
    "        add.append(i)\n",
    "print(add)                  \n"
   ]
  },
  {
   "cell_type": "markdown",
   "id": "caca5224",
   "metadata": {},
   "source": [
    "**32-write a python program to find the Strongest Neighbour (Input: 1 2 2 3 4 5\n",
    "Output: 2 2 3 4 5)"
   ]
  },
  {
   "cell_type": "code",
   "execution_count": 77,
   "id": "855a3097",
   "metadata": {},
   "outputs": [
    {
     "name": "stdout",
     "output_type": "stream",
     "text": [
      "2 "
     ]
    }
   ],
   "source": [
    "def strongest_neighbor(nums):\n",
    "    n = len(nums)\n",
    "    for i in range(1, n-1):\n",
    "        if nums[i-1] <= nums[i] >= nums[i+1]:\n",
    "            print(nums[i], end=' ')\n",
    "\n",
    "# Sample usage\n",
    "nums = [1, 2, 2, 3, 4, 5]\n",
    "strongest_neighbor(nums)"
   ]
  },
  {
   "cell_type": "code",
   "execution_count": 83,
   "id": "39fbd9b2",
   "metadata": {},
   "outputs": [
    {
     "name": "stdout",
     "output_type": "stream",
     "text": [
      "[2]\n"
     ]
    }
   ],
   "source": [
    "## condation \n",
    "def strongest(li):\n",
    "    n=len(li)\n",
    "    for i in range(1, n-1):\n",
    "        if li[i-1] <= li[i] and li[i] >= li[i+1]:\n",
    "            print(li[i], end=' ')\n",
    "        \n",
    "\n",
    "li = [1, 2, 2, 3, 4, 5]\n",
    "strongest(li)"
   ]
  },
  {
   "cell_type": "markdown",
   "id": "a9fa8baf",
   "metadata": {},
   "source": [
    "**33-write a Python Program to print all Possible Combinations from the three Digits (Input: [1, 2, 3]\n",
    "Output:\n",
    "1 2 3 ##\n",
    "1 3 2 ##\n",
    "2 1 3 ##\n",
    "2 3 1 ##\n",
    "3 1 2 ##\n",
    "3 2 1)"
   ]
  },
  {
   "cell_type": "code",
   "execution_count": 85,
   "id": "8c520a76",
   "metadata": {},
   "outputs": [
    {
     "name": "stdout",
     "output_type": "stream",
     "text": [
      "1 2 3 ##\n",
      "1 3 2 ##\n",
      "2 1 3 ##\n",
      "2 3 1 ##\n",
      "3 1 2 ##\n",
      "3 2 1 ##\n"
     ]
    }
   ],
   "source": [
    "############################################################\n",
    "import itertools\n",
    "\n",
    "def print_combinations(digits):\n",
    "    for permutation in itertools.permutations(digits):\n",
    "        print(' '.join(map(str, permutation)), '##')\n",
    "\n",
    "\n",
    "digits = [1, 2, 3]\n",
    "print_combinations(digits)    \n"
   ]
  },
  {
   "cell_type": "markdown",
   "id": "5288bb89",
   "metadata": {},
   "source": [
    "**34-write a Python program to find all the Combinations in the list with the given condition (Input: test_list = [1,2,3] \n",
    "Output: \n",
    " [1], [1, 2], [1, 2, 3], [1, 3]\n",
    " [2], [2, 3], [3])"
   ]
  },
  {
   "cell_type": "code",
   "execution_count": 98,
   "id": "59b89646",
   "metadata": {},
   "outputs": [],
   "source": [
    "##################################################\n",
    "def find(lst):\n",
    "    n = len(lst)\n",
    "    result = []\n",
    "    for i in range(n):\n",
    "        for j in range(i+1, n+1):\n",
    "            if i == 0 or lst[i-1] < lst[j-1] - 1:\n",
    "                result.append(lst[i:j])\n",
    "    return result\n",
    "\n",
    "\n",
    "li = [1, 2, 3]\n",
    "result = find(li)\n",
    "for i in result:\n",
    "    print(i)"
   ]
  },
  {
   "cell_type": "markdown",
   "id": "39973705",
   "metadata": {},
   "source": [
    "**35-write a Python program to get all unique combinations of two Lists (List_1 = [\"a\",\"b\"]\n",
    "List_2 = [1,2]\n",
    "Unique_combination = [[('a',1),('b',2)],[('a',2),('b',1)]] )"
   ]
  },
  {
   "cell_type": "markdown",
   "metadata": {},
   "source": []
  },
  {
   "cell_type": "code",
   "execution_count": 43,
   "id": "8c4ba22b",
   "metadata": {},
   "outputs": [
    {
     "name": "stdout",
     "output_type": "stream",
     "text": [
      "[[('a', 1), ('b', 2)], [('a', 1), ('b', 2)]]\n"
     ]
    }
   ],
   "source": [
    "li1 = [\"a\", \"b\"]\n",
    "li2 = [1, 2]\n",
    "new = []\n",
    "\n",
    "for i in range(len(li1)):\n",
    "    r = []\n",
    "\n",
    "    for j in range(len(li1)):\n",
    "        if i == 0:\n",
    "            r.append((li1[j], li2[j]))\n",
    "        elif j == 0:\n",
    "            r.append((li1[j], li2[j]))\n",
    "        else:\n",
    "            r.append((li1[j], li2[j]))\n",
    "\n",
    "    new.append(r)\n",
    "\n",
    "print(new)\n"
   ]
  },
  {
   "cell_type": "markdown",
   "id": "25199af5",
   "metadata": {},
   "source": [
    "**36-Remove all the occurrences of an element from a list in Python (Input : 1 1 2 3 4 5 1 2 1 \n",
    "\n",
    "**Output : 2 3 4 5 2)"
   ]
  },
  {
   "cell_type": "code",
   "execution_count": 63,
   "id": "6dc4c2ba",
   "metadata": {},
   "outputs": [
    {
     "name": "stdout",
     "output_type": "stream",
     "text": [
      "[2, 3]\n"
     ]
    }
   ],
   "source": [
    "li=[1,2,3,1]\n",
    "for i in li :\n",
    "    if i==1:\n",
    "        li.remove(1)\n",
    "        \n",
    "print(li)        "
   ]
  },
  {
   "cell_type": "markdown",
   "id": "bf1a3c93",
   "metadata": {},
   "source": [
    "**37-write a python program to Replace index elements with elements in Other List (The original list 1 is : [‘Gfg’, ‘is’, ‘best’] The original list 2 is : [0, 1, 2, 1, 0, 0, 0, 2, 1, 1, 2, 0] The lists after index elements replacements is : [‘Gfg’, ‘is’, ‘best’, ‘is’, ‘Gfg’, ‘Gfg’, ‘Gfg’, ‘best’, ‘is’, ‘is’, ‘best’, ‘Gfg’])"
   ]
  },
  {
   "cell_type": "code",
   "execution_count": 7,
   "id": "fdd66a71",
   "metadata": {},
   "outputs": [
    {
     "name": "stdout",
     "output_type": "stream",
     "text": [
      "['Gfg', 'is', 'best', 'is', 'Gfg', 'Gfg', 'Gfg', 'best', 'is', 'is', 'best', 'Gfg']\n"
     ]
    }
   ],
   "source": [
    "l1=[\"Gfg\", \"is\", \"best\"]\n",
    "l2= [0, 1, 2, 1, 0, 0, 0, 2, 1, 1, 2, 0]\n",
    "\n",
    "for i in range(0,len(l2)):\n",
    "    l2[i]=l1[l2[i]]\n",
    "    \n",
    "print(l2)"
   ]
  },
  {
   "cell_type": "markdown",
   "id": "af0f56e8",
   "metadata": {},
   "source": [
    "**38- write python program to Retain records with N occurrences of K(Input : test_list = [(4, 5, 5, 4), (5, 4, 3)], K = 5, N = 2 \n",
    "Output : [(4, 5, 5, 4)]\n",
    "Input : test_list = [(4, 5, 5, 4), (5, 4, 3)], K = 5, N = 3 \n",
    "Output : [] )"
   ]
  },
  {
   "cell_type": "code",
   "execution_count": 13,
   "id": "67b06671",
   "metadata": {},
   "outputs": [
    {
     "name": "stdout",
     "output_type": "stream",
     "text": [
      "(4, 5, 5, 4)\n"
     ]
    }
   ],
   "source": [
    "li= [(4, 5, 5, 4), (5, 4, 3)]\n",
    "t={}\n",
    "k=int(input(\"enter k \"))\n",
    "n=int(input(\"enter n \"))\n",
    "\n",
    "for i in li :\n",
    "    s=list(i)\n",
    "    count=0\n",
    "    for g in s:\n",
    "        if g==k:\n",
    "            count+=1\n",
    "    t[count]=i \n",
    "\n",
    "print(t[n])                  "
   ]
  },
  {
   "cell_type": "markdown",
   "id": "de76f183",
   "metadata": {},
   "source": [
    "**39-write a Python Program to Sort the list according to the column using lambda\n",
    "array = [[1, 3, 3], [2, 1, 2], [3, 2, 1]]\n",
    "Output :\n",
    "Sorted array specific to column 0, [[1, 3, 3], [2, 1, 2], [3, 2, 1]]\n",
    "Sorted array specific to column 1, [[2, 1, 2], [3, 2, 1], [1, 3, 3]]\n",
    "Sorted array specific to column 2, [[3, 2, 1], [2, 1, 2], [1, 3, 3]]"
   ]
  },
  {
   "cell_type": "code",
   "execution_count": 14,
   "id": "dc883308",
   "metadata": {},
   "outputs": [
    {
     "name": "stdout",
     "output_type": "stream",
     "text": [
      "Sorted array specific to column 0,  [[1, 3, 3], [2, 1, 2], [3, 2, 1]]\n",
      "Sorted array specific to column 1,  [[2, 1, 2], [3, 2, 1], [1, 3, 3]]\n",
      "Sorted array specific to column 2,  [[3, 2, 1], [2, 1, 2], [1, 3, 3]]\n"
     ]
    }
   ],
   "source": [
    "array = [[1, 3, 3], [2, 1, 2], [3, 2, 1]]\n",
    "\n",
    "sorted_array = sorted(array, key=lambda x: x[0])\n",
    "print(\"Sorted array specific to column 0, \", sorted_array)\n",
    "\n",
    "sorted_array = sorted(array, key=lambda x: x[1])\n",
    "print(\"Sorted array specific to column 1, \", sorted_array)\n",
    "\n",
    "sorted_array = sorted(array, key=lambda x: x[2])\n",
    "print(\"Sorted array specific to column 2, \", sorted_array)"
   ]
  },
  {
   "cell_type": "code",
   "execution_count": null,
   "id": "d2e7b31f",
   "metadata": {},
   "outputs": [],
   "source": [
    "**40- write a program to Sort Python Dictionaries by Key or Value\n",
    "Input:\n",
    "{'ravi': 10, 'rajnish': 9, 'sanjeev': 15, 'yash': 2, 'suraj': 32}\n",
    "\n",
    "Output: \n",
    "{'rajnish': 9, 'ravi': 10, 'sanjeev': 15, 'suraj': 32, 'yash': 2}"
   ]
  },
  {
   "cell_type": "code",
   "execution_count": 17,
   "id": "a96db4a0",
   "metadata": {},
   "outputs": [
    {
     "name": "stdout",
     "output_type": "stream",
     "text": [
      "{'rajnish': 9, 'ravi': 10, 'sanjeev': 15, 'suraj': 32, 'yash': 2}\n"
     ]
    }
   ],
   "source": [
    "d={'ravi': 10, 'rajnish': 9, 'sanjeev': 15, 'yash': 2, 'suraj': 32}\n",
    "sorted_dict = dict(sorted(d.items()))\n",
    "print( sorted_dict)\n"
   ]
  },
  {
   "cell_type": "markdown",
   "id": "ec63c23a",
   "metadata": {},
   "source": [
    "**41-write python program to Remove keys with Values Greater than K ( Including mixed values )\n",
    "nput : test_dict = {‘Gfg’ : 3, ‘is’ : 7, ‘best’ : 10, ‘for’ : 6, ‘geeks’ : ‘CS’},\n",
    "K = 7 \n",
    "Output : {‘Gfg’ : 3, ‘for’ : 6, ‘geeks’ : ‘CS’}"
   ]
  },
  {
   "cell_type": "code",
   "execution_count": 31,
   "id": "e39c3a40",
   "metadata": {},
   "outputs": [
    {
     "name": "stdout",
     "output_type": "stream",
     "text": [
      "{'Gfg': 3, 'is': 7, 'for': 6, 'geeks': 'CS'}\n"
     ]
    }
   ],
   "source": [
    "    \n",
    "test_dict = {'Gfg': 3, 'is': 7, 'best': 10, 'for': 6, 'geeks': 'CS'}\n",
    "K = 7\n",
    "\n",
    "for key in list(test_dict.keys()):\n",
    "    if isinstance(test_dict[key], int) and test_dict[key] > K:\n",
    "        del test_dict[key]\n",
    "\n",
    "print( test_dict)    "
   ]
  },
  {
   "cell_type": "markdown",
   "id": "f143f0fe",
   "metadata": {},
   "source": [
    "**42-Write a Python program to concatenate the following dictionaries to create a new one\n",
    "\n",
    "Sample Dictionary :\n",
    "dic1={1:10, 2:20}\n",
    "dic2={3:30, 4:40}\n",
    "dic3={5:50,6:60}\n",
    "Expected Result : {1: 10, 2: 20, 3: 30, 4: 40, 5: 50, 6: 60}"
   ]
  },
  {
   "cell_type": "code",
   "execution_count": 32,
   "id": "74ffdfea",
   "metadata": {},
   "outputs": [
    {
     "name": "stdout",
     "output_type": "stream",
     "text": [
      "{1: 10, 2: 20, 3: 30, 4: 40, 5: 50, 6: 60}\n"
     ]
    }
   ],
   "source": [
    "dic1={1:10, 2:20}\n",
    "dic2={3:30, 4:40}\n",
    "dic3={5:50,6:60}\n",
    "new_dic={}\n",
    "for d in [dic1,dic2,dic3]:\n",
    "    new_dic.update(d)\n",
    "print(new_dic)    \n"
   ]
  },
  {
   "cell_type": "markdown",
   "id": "fb04c93c",
   "metadata": {},
   "source": [
    "**43-Write a Python program to iterate over dictionaries using for loops"
   ]
  },
  {
   "cell_type": "code",
   "execution_count": 34,
   "id": "6aebc470",
   "metadata": {},
   "outputs": [
    {
     "name": "stdout",
     "output_type": "stream",
     "text": [
      "key is : Gfg\n",
      "key is : is\n",
      "key is : best\n",
      "key is : for\n",
      "key is : geeks\n",
      "-----------------\n",
      "value is : 3\n",
      "value is : 7\n",
      "value is : 10\n",
      "value is : 6\n",
      "value is : CS\n",
      "-----------------\n",
      "dic is : Gfg 3\n",
      "dic is : is 7\n",
      "dic is : best 10\n",
      "dic is : for 6\n",
      "dic is : geeks CS\n"
     ]
    }
   ],
   "source": [
    "d={'Gfg': 3, 'is': 7, 'best': 10, 'for': 6, 'geeks': 'CS'}\n",
    "for key in d:\n",
    "    print (\"key is :\",key)\n",
    "print(\"-----------------\")\n",
    "for value in d.values():\n",
    "    print (\"value is :\",value)\n",
    "print(\"-----------------\")\n",
    "for key,value in d.items():\n",
    "    print (\"dic is :\",key,value)\n",
    "\n"
   ]
  },
  {
   "cell_type": "markdown",
   "id": "5f491a9d",
   "metadata": {},
   "source": [
    "**44- Write a Python script to merge two Python dictionaries"
   ]
  },
  {
   "cell_type": "code",
   "execution_count": 37,
   "id": "f79dd06a",
   "metadata": {},
   "outputs": [
    {
     "name": "stdout",
     "output_type": "stream",
     "text": [
      "{'apple': 2, 'banana': 5, 'orange': 3, 'pear': 1, 'kiwi': 4, 'melon': 2}\n"
     ]
    }
   ],
   "source": [
    "#1\n",
    "dict1 = {'apple': 2, 'banana': 5, 'orange': 3}\n",
    "dict2 = {'pear': 1, 'kiwi': 4, 'melon': 2}\n",
    "\n",
    "merged_dict = {**dict1, **dict2}\n",
    "\n",
    "print( merged_dict)"
   ]
  },
  {
   "cell_type": "code",
   "execution_count": 39,
   "id": "b8a14028",
   "metadata": {},
   "outputs": [
    {
     "name": "stdout",
     "output_type": "stream",
     "text": [
      "{'apple': 2, 'banana': 5, 'orange': 3, 'pear': 1, 'kiwi': 4, 'melon': 2}\n"
     ]
    }
   ],
   "source": [
    "#2\n",
    "dic1 = {'apple': 2, 'banana': 5, 'orange': 3}\n",
    "dic2 = {'pear': 1, 'kiwi': 4, 'melon': 2}\n",
    "new_dic={}\n",
    "for d in [dic1,dic2]:\n",
    "    new_dic.update(d)\n",
    "print(new_dic)    \n"
   ]
  },
  {
   "cell_type": "markdown",
   "id": "216fc72d",
   "metadata": {},
   "source": [
    "**45-Write a Python program to get the maximum and minimum values of a dictionary values"
   ]
  },
  {
   "cell_type": "code",
   "execution_count": 42,
   "id": "d6883f5f",
   "metadata": {},
   "outputs": [
    {
     "name": "stdout",
     "output_type": "stream",
     "text": [
      "the max value is   5\n",
      "the min value is   1\n"
     ]
    }
   ],
   "source": [
    "d={'apple': 2, 'banana': 5, 'orange': 3, 'pear': 1, 'kiwi': 4, 'melon': 2}\n",
    "li=d.values()\n",
    "print( \"the max value is  \",max(li))\n",
    "print( \"the min value is  \",min(li))"
   ]
  },
  {
   "cell_type": "markdown",
   "id": "b6a53011",
   "metadata": {},
   "source": [
    "**46- Write a Python program to drop empty items from a given dictionary.\n",
    "Original Dictionary:\n",
    "{'c1': 'Red', 'c2': 'Green', 'c3': None}\n",
    "New Dictionary after dropping empty items:\n",
    "{'c1': 'Red', 'c2': 'Green'}"
   ]
  },
  {
   "cell_type": "code",
   "execution_count": 53,
   "id": "b5c6fecf",
   "metadata": {},
   "outputs": [
    {
     "name": "stdout",
     "output_type": "stream",
     "text": [
      "{'c1': 'Red', 'c2': 'Green'}\n"
     ]
    }
   ],
   "source": [
    "d={'c1': 'Red', 'c2': 'Green', 'c3': None}\n",
    "s={}\n",
    "for i in d :\n",
    "    if d[i] is not  None:\n",
    "        s[i]=d[i]\n",
    "        \n",
    "print(s)        "
   ]
  },
  {
   "cell_type": "markdown",
   "id": "46d718c7",
   "metadata": {},
   "source": [
    "**47-Write a Python program to create a tuple of numbers and print one item"
   ]
  },
  {
   "cell_type": "code",
   "execution_count": 37,
   "id": "13216ff5",
   "metadata": {},
   "outputs": [
    {
     "name": "stdout",
     "output_type": "stream",
     "text": [
      "33\n"
     ]
    }
   ],
   "source": [
    "t=(12,33,30,144,122,55,88,99)\n",
    "print(t[1])\n"
   ]
  },
  {
   "cell_type": "markdown",
   "id": "2be5b56b",
   "metadata": {},
   "source": [
    "**48-Write a Python program to unpack a tuple into several variables"
   ]
  },
  {
   "cell_type": "code",
   "execution_count": 64,
   "id": "595f44be",
   "metadata": {},
   "outputs": [
    {
     "name": "stdout",
     "output_type": "stream",
     "text": [
      "1\n",
      "2\n",
      "3\n"
     ]
    }
   ],
   "source": [
    "a,b,c=(1,2,3)\n",
    "print(a)\n",
    "print(b)\n",
    "print(c)"
   ]
  },
  {
   "cell_type": "markdown",
   "id": "392388a7",
   "metadata": {},
   "source": [
    "**49-Write a Python program to add an item to a tuple"
   ]
  },
  {
   "cell_type": "code",
   "execution_count": 35,
   "id": "54cc092e",
   "metadata": {},
   "outputs": [
    {
     "name": "stdout",
     "output_type": "stream",
     "text": [
      "(1, 3, 3, 3, 33, 335, 8, 55, 0, 11)\n"
     ]
    }
   ],
   "source": [
    "l =(1,3,3,3,33,335,8)\n",
    "t=l+(55,0,11)\n",
    "print(t)"
   ]
  },
  {
   "cell_type": "markdown",
   "id": "3e8fd124",
   "metadata": {},
   "source": [
    "**50-Write a Python program to convert a tuple to a string"
   ]
  },
  {
   "cell_type": "code",
   "execution_count": 168,
   "id": "92a71ddc",
   "metadata": {},
   "outputs": [
    {
     "name": "stdout",
     "output_type": "stream",
     "text": [
      "123354555\n",
      "-------------\n",
      "[1, 2, 3, 3, 5, 4, 5, 5, 5]\n",
      "[1, 2, 3, 3, 5, 4, 5, 5, 5]\n"
     ]
    }
   ],
   "source": [
    "def to_string(tpl):\n",
    "    result = ''.join(map(str, tpl))\n",
    "    return result\n",
    "t=(1,2,3,3,5,4,5,5,5)\n",
    "s=to_string(t)\n",
    "print(s)     \n",
    "\n",
    "\n"
   ]
  },
  {
   "cell_type": "markdown",
   "id": "f4f64ef4",
   "metadata": {},
   "source": [
    "**51-Write a Python program to convert a list to a tuple"
   ]
  },
  {
   "cell_type": "code",
   "execution_count": 134,
   "id": "210d56d3",
   "metadata": {},
   "outputs": [
    {
     "name": "stdout",
     "output_type": "stream",
     "text": [
      "{8, 3, 4, 6}\n"
     ]
    }
   ],
   "source": [
    "li =[4, 6, 4, 3, 3, 4, 3, 4, 3, 8]\n",
    "\n",
    "s= set(li)\n",
    "print(s)"
   ]
  },
  {
   "cell_type": "markdown",
   "id": "b1e00ef7",
   "metadata": {},
   "source": [
    "**52-Write a Python program to reverse a tuple"
   ]
  },
  {
   "cell_type": "code",
   "execution_count": 146,
   "id": "f45bfdc7",
   "metadata": {},
   "outputs": [
    {
     "name": "stdout",
     "output_type": "stream",
     "text": [
      "(7, 9, 8, 2, 4, 5, 3, 2, 1)\n"
     ]
    }
   ],
   "source": [
    "s=(1,2,3,5,4,2,8,9,7)\n",
    "l =list(s)\n",
    "l.reverse()\n",
    "news=tuple(l)\n",
    "print(news)"
   ]
  },
  {
   "cell_type": "markdown",
   "id": "3cd347d1",
   "metadata": {},
   "source": [
    "**53-Write a Python program to replace the last value of tuples in a list.\n",
    "Sample list: [(10, 20, 40), (40, 50, 60), (70, 80, 90)]\n",
    "Expected Output: [(10, 20, 100), (40, 50, 100), (70, 80, 100)]"
   ]
  },
  {
   "cell_type": "code",
   "execution_count": 152,
   "id": "3c4a2a4c",
   "metadata": {},
   "outputs": [
    {
     "data": {
      "text/plain": [
       "[(10, 20, 100), (40, 50, 100), (70, 80, 100)]"
      ]
     },
     "execution_count": 152,
     "metadata": {},
     "output_type": "execute_result"
    }
   ],
   "source": [
    "def chang(li,new):\n",
    "    result =[]\n",
    "    for i in li:\n",
    "        result.append(i[:-1]+(new,))\n",
    "    return result    \n",
    "\n",
    "\n",
    "\n",
    "li=[(10, 20, 40), (40, 50, 60), (70, 80, 90)]\n",
    "new=100\n",
    "chang(li,new)        "
   ]
  },
  {
   "cell_type": "markdown",
   "id": "76bb7b39",
   "metadata": {},
   "source": [
    "**54-Write a Python program to convert a given string list to a tuple\n",
    "Original string: python 3.0\n",
    "<class 'str'>\n",
    "Convert the said string to a tuple:\n",
    "('p', 'y', 't', 'h', 'o', 'n', '3', '.', '0')"
   ]
  },
  {
   "cell_type": "code",
   "execution_count": 4,
   "id": "51951937",
   "metadata": {},
   "outputs": [
    {
     "name": "stdout",
     "output_type": "stream",
     "text": [
      "('p', 'y', 't', 'h', 'o', 'n', '3', '.', '0')\n"
     ]
    }
   ],
   "source": [
    "string=\"python3.0\"\n",
    "li = tuple(string)\n",
    "print(li)"
   ]
  },
  {
   "cell_type": "markdown",
   "id": "5a1d5d97",
   "metadata": {},
   "source": [
    "**55-Write a Python program to calculate the average value of the numbers in a given tuple of tuples"
   ]
  },
  {
   "cell_type": "code",
   "execution_count": 8,
   "id": "834e7992",
   "metadata": {},
   "outputs": [
    {
     "name": "stdout",
     "output_type": "stream",
     "text": [
      "2277.9166666666665\n"
     ]
    }
   ],
   "source": [
    "t=(1,452,200,102,20056,210,1000,165,404,4441,55,249)\n",
    "sum=0\n",
    "for i in t:\n",
    "    sum+=int(i)\n",
    "print(sum/len(t))"
   ]
  },
  {
   "cell_type": "markdown",
   "id": "51edab9c",
   "metadata": {},
   "source": [
    "**56-Write a Python program to add member(s) to a set."
   ]
  },
  {
   "cell_type": "code",
   "execution_count": 9,
   "id": "2b65df79",
   "metadata": {},
   "outputs": [
    {
     "name": "stdout",
     "output_type": "stream",
     "text": [
      "before  {1, 2, 22}\n",
      "after  {1, 2, 323, 423, 22, 23, 123}\n"
     ]
    }
   ],
   "source": [
    "s={1,2,22}\n",
    "print(\"before \",s)\n",
    "s.add(123)\n",
    "s.add(323)\n",
    "s.add(423)\n",
    "s.add(23)\n",
    "print(\"after \",s)\n",
    "\n"
   ]
  },
  {
   "cell_type": "markdown",
   "id": "965590cc",
   "metadata": {},
   "source": [
    "**57-Write a Python program to remove an item from a set if it is present in the set."
   ]
  },
  {
   "cell_type": "code",
   "execution_count": 18,
   "id": "866bab28",
   "metadata": {},
   "outputs": [
    {
     "name": "stdout",
     "output_type": "stream",
     "text": [
      "{1, 2}\n"
     ]
    }
   ],
   "source": [
    "s={1,2,2,2}\n",
    "print(s)\n"
   ]
  },
  {
   "cell_type": "markdown",
   "id": "2b7cfed1",
   "metadata": {},
   "source": [
    "**58-Write a Python program to create an intersection,union,difference and symmetric difference of sets"
   ]
  },
  {
   "cell_type": "code",
   "execution_count": 31,
   "id": "7f94b7fe",
   "metadata": {},
   "outputs": [
    {
     "name": "stdout",
     "output_type": "stream",
     "text": [
      "union is  {1, 2, 3, 5, 6, 9}\n",
      "intersection is  {1, 5}\n",
      "intersection is  {2, 3}\n"
     ]
    }
   ],
   "source": [
    "s1={1,2,3,5}\n",
    "s2={1,5,6,9}\n",
    "un=s1.union(s2)\n",
    "print(\"union is \",un) \n",
    "inter=s1.intersection(s2)\n",
    "print(\"intersection is \",inter)\n",
    "defrance=s1.difference(s2)\n",
    "print(\"intersection is \",defrance)"
   ]
  },
  {
   "cell_type": "markdown",
   "id": "b94931e2",
   "metadata": {},
   "source": [
    "**59-Write a Python program to find the maximum and minimum values in a set"
   ]
  },
  {
   "cell_type": "code",
   "execution_count": 21,
   "id": "203f9600",
   "metadata": {},
   "outputs": [
    {
     "name": "stdout",
     "output_type": "stream",
     "text": [
      "set is  {96, 1, 33, 69, 2023, 330, 74, 85, 22, 23, 30}\n",
      "max num is  2023\n",
      "min num is  1\n"
     ]
    }
   ],
   "source": [
    "s={1,23,2023,22,33,330,30,69,96,85,74}\n",
    "print(\"set is \",s)\n",
    "print( \"max num is \",max(s))\n",
    "print( \"min num is \",min(s))"
   ]
  },
  {
   "cell_type": "markdown",
   "id": "255fd554",
   "metadata": {},
   "source": [
    "**60- Write a Python program that finds all pairs of elements in a list whose sum is equal to a given value."
   ]
  },
  {
   "cell_type": "code",
   "execution_count": 10,
   "id": "c2d94e1f",
   "metadata": {},
   "outputs": [
    {
     "name": "stdout",
     "output_type": "stream",
     "text": [
      "[(8, 8)]\n"
     ]
    }
   ],
   "source": [
    "value =int(input(\"enter the expected value \"))\n",
    "li =[1,2,3,6,5,4,8,9]\n",
    "result=[]\n",
    "for i in li:\n",
    "    for j in range(len(li)):\n",
    "        \n",
    "        if (i+li[j])==value:\n",
    "            result.append((i,li[j]))\n",
    "           \n",
    "print(result)            \n",
    "\n"
   ]
  }
 ],
 "metadata": {
  "kernelspec": {
   "display_name": "Python 3 (ipykernel)",
   "language": "python",
   "name": "python3"
  },
  "language_info": {
   "codemirror_mode": {
    "name": "ipython",
    "version": 3
   },
   "file_extension": ".py",
   "mimetype": "text/x-python",
   "name": "python",
   "nbconvert_exporter": "python",
   "pygments_lexer": "ipython3",
   "version": "3.9.13"
  }
 },
 "nbformat": 4,
 "nbformat_minor": 5
}
